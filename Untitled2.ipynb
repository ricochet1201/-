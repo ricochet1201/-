{
  "nbformat": 4,
  "nbformat_minor": 0,
  "metadata": {
    "colab": {
      "name": "Untitled2.ipynb",
      "provenance": [],
      "authorship_tag": "ABX9TyOOs2vso3FymSPbgFoofnBH",
      "include_colab_link": true
    },
    "kernelspec": {
      "name": "python3",
      "display_name": "Python 3"
    },
    "language_info": {
      "name": "python"
    },
    "accelerator": "GPU"
  },
  "cells": [
    {
      "cell_type": "markdown",
      "metadata": {
        "id": "view-in-github",
        "colab_type": "text"
      },
      "source": [
        "<a href=\"https://colab.research.google.com/github/ricochet1201/DM/blob/main/Untitled2.ipynb\" target=\"_parent\"><img src=\"https://colab.research.google.com/assets/colab-badge.svg\" alt=\"Open In Colab\"/></a>"
      ]
    },
    {
      "cell_type": "markdown",
      "metadata": {
        "id": "Ui0wfYdO7l66"
      },
      "source": [
        "# hero-position"
      ]
    },
    {
      "cell_type": "code",
      "metadata": {
        "id": "D1Q5qG3TyERO"
      },
      "source": [
        "hero_dict  = { 'tanker' : ['D.Va', 'Reinhardt', 'Roadhog', 'Sigma',  'Winston', \n",
        "                          'Wrecking Ball', 'Zarya', 'Orisa' ],\n",
        "'dps' : ['Ashe','Bastion','Doomfist', 'Genji', 'Hanzo', 'Junkrat','McCree', \n",
        "       'Mei','Pharah', 'Reaper','Soldier: 76', 'Sombra', 'Symmetra', 'Torbjörn', \n",
        "           'Tracer', 'Widowmaker', 'Echo'],\n",
        "'supporter' : [ 'Zenyatta','Mercy', 'Moira','Lúcio','Ana','Brigitte','Baptiste'],\n",
        "'Any':'All Heroes'}"
      ],
      "execution_count": 2,
      "outputs": []
    },
    {
      "cell_type": "code",
      "metadata": {
        "colab": {
          "base_uri": "https://localhost:8080/"
        },
        "id": "xKmH4GLbyEUT",
        "outputId": "a66f5d4e-1b19-4bc7-c43c-8479609a503c"
      },
      "source": [
        "position_dict = {}\n",
        "for key,val in hero_dict.items():\n",
        "    if key != 'Any':\n",
        "        for v in val:\n",
        "            position_dict[v] = key\n",
        "    else:\n",
        "        position_dict[val] = key\n",
        "print(position_dict)\n",
        "print(len(position_dict))"
      ],
      "execution_count": 3,
      "outputs": [
        {
          "output_type": "stream",
          "text": [
            "{'D.Va': 'tanker', 'Reinhardt': 'tanker', 'Roadhog': 'tanker', 'Sigma': 'tanker', 'Winston': 'tanker', 'Wrecking Ball': 'tanker', 'Zarya': 'tanker', 'Orisa': 'tanker', 'Ashe': 'dps', 'Bastion': 'dps', 'Doomfist': 'dps', 'Genji': 'dps', 'Hanzo': 'dps', 'Junkrat': 'dps', 'McCree': 'dps', 'Mei': 'dps', 'Pharah': 'dps', 'Reaper': 'dps', 'Soldier: 76': 'dps', 'Sombra': 'dps', 'Symmetra': 'dps', 'Torbjörn': 'dps', 'Tracer': 'dps', 'Widowmaker': 'dps', 'Echo': 'dps', 'Zenyatta': 'supporter', 'Mercy': 'supporter', 'Moira': 'supporter', 'Lúcio': 'supporter', 'Ana': 'supporter', 'Brigitte': 'supporter', 'Baptiste': 'supporter', 'All Heroes': 'Any'}\n",
            "33\n"
          ],
          "name": "stdout"
        }
      ]
    },
    {
      "cell_type": "code",
      "metadata": {
        "id": "t763T2LlyEXQ"
      },
      "source": [
        "import pandas as pd"
      ],
      "execution_count": 4,
      "outputs": []
    },
    {
      "cell_type": "code",
      "metadata": {
        "id": "QqQMhssByEaI"
      },
      "source": [
        "df = pd.read_csv('phs_p.csv')"
      ],
      "execution_count": 8,
      "outputs": []
    },
    {
      "cell_type": "code",
      "metadata": {
        "colab": {
          "base_uri": "https://localhost:8080/"
        },
        "id": "_eeWBFpUyEc3",
        "outputId": "ed9624f5-6fc0-4934-a665-967e7449d2dd"
      },
      "source": [
        "df['hero'].value_counts().shape"
      ],
      "execution_count": 9,
      "outputs": [
        {
          "output_type": "execute_result",
          "data": {
            "text/plain": [
              "(32,)"
            ]
          },
          "metadata": {
            "tags": []
          },
          "execution_count": 9
        }
      ]
    },
    {
      "cell_type": "code",
      "metadata": {
        "id": "4UjkBKWbyEfo"
      },
      "source": [
        "position = []\n",
        "for hero in df['hero']:\n",
        "    try:\n",
        "        position.append(position_dict[hero])\n",
        "    except KeyError:\n",
        "        position.append(None)"
      ],
      "execution_count": 10,
      "outputs": []
    },
    {
      "cell_type": "code",
      "metadata": {
        "id": "t6OAsVUw16gA"
      },
      "source": [
        "df['position'] = position"
      ],
      "execution_count": 11,
      "outputs": []
    },
    {
      "cell_type": "code",
      "metadata": {
        "colab": {
          "base_uri": "https://localhost:8080/"
        },
        "id": "5kS_8yJA16i_",
        "outputId": "adf01e03-1e4d-4cc9-deba-7b72d559ef0e"
      },
      "source": [
        "df['position'].value_counts()"
      ],
      "execution_count": 12,
      "outputs": [
        {
          "output_type": "execute_result",
          "data": {
            "text/plain": [
              "dps          342099\n",
              "Any          296077\n",
              "tanker       277772\n",
              "supporter    251741\n",
              "Name: position, dtype: int64"
            ]
          },
          "metadata": {
            "tags": []
          },
          "execution_count": 12
        }
      ]
    },
    {
      "cell_type": "code",
      "metadata": {
        "colab": {
          "base_uri": "https://localhost:8080/",
          "height": 279
        },
        "id": "L-CYceH016mF",
        "outputId": "ce724ba4-6eb9-472b-f778-0b4ab942b5f3"
      },
      "source": [
        "df.tail()"
      ],
      "execution_count": 13,
      "outputs": [
        {
          "output_type": "execute_result",
          "data": {
            "text/html": [
              "<div>\n",
              "<style scoped>\n",
              "    .dataframe tbody tr th:only-of-type {\n",
              "        vertical-align: middle;\n",
              "    }\n",
              "\n",
              "    .dataframe tbody tr th {\n",
              "        vertical-align: top;\n",
              "    }\n",
              "\n",
              "    .dataframe thead th {\n",
              "        text-align: right;\n",
              "    }\n",
              "</style>\n",
              "<table border=\"1\" class=\"dataframe\">\n",
              "  <thead>\n",
              "    <tr style=\"text-align: right;\">\n",
              "      <th></th>\n",
              "      <th>start_time</th>\n",
              "      <th>match_id</th>\n",
              "      <th>stage</th>\n",
              "      <th>map_type</th>\n",
              "      <th>map_name</th>\n",
              "      <th>player</th>\n",
              "      <th>team</th>\n",
              "      <th>stat_name</th>\n",
              "      <th>hero</th>\n",
              "      <th>stat_amount</th>\n",
              "      <th>tournament_title</th>\n",
              "      <th>position</th>\n",
              "    </tr>\n",
              "  </thead>\n",
              "  <tbody>\n",
              "    <tr>\n",
              "      <th>1167684</th>\n",
              "      <td>9/6/2019 23:23</td>\n",
              "      <td>30153</td>\n",
              "      <td>Overwatch League 2019 Post-Season</td>\n",
              "      <td>HYBRID</td>\n",
              "      <td>Numbani</td>\n",
              "      <td>Gesture</td>\n",
              "      <td>London Spitfire</td>\n",
              "      <td>Shots Fired</td>\n",
              "      <td>Wrecking Ball</td>\n",
              "      <td>75.000000</td>\n",
              "      <td>NaN</td>\n",
              "      <td>tanker</td>\n",
              "    </tr>\n",
              "    <tr>\n",
              "      <th>1167685</th>\n",
              "      <td>9/6/2019 23:23</td>\n",
              "      <td>30153</td>\n",
              "      <td>Overwatch League 2019 Post-Season</td>\n",
              "      <td>HYBRID</td>\n",
              "      <td>Numbani</td>\n",
              "      <td>Gesture</td>\n",
              "      <td>London Spitfire</td>\n",
              "      <td>Shots Hit</td>\n",
              "      <td>Wrecking Ball</td>\n",
              "      <td>24.000000</td>\n",
              "      <td>NaN</td>\n",
              "      <td>tanker</td>\n",
              "    </tr>\n",
              "    <tr>\n",
              "      <th>1167686</th>\n",
              "      <td>9/6/2019 23:23</td>\n",
              "      <td>30153</td>\n",
              "      <td>Overwatch League 2019 Post-Season</td>\n",
              "      <td>HYBRID</td>\n",
              "      <td>Numbani</td>\n",
              "      <td>Gesture</td>\n",
              "      <td>London Spitfire</td>\n",
              "      <td>Shots Missed</td>\n",
              "      <td>Wrecking Ball</td>\n",
              "      <td>49.000000</td>\n",
              "      <td>NaN</td>\n",
              "      <td>tanker</td>\n",
              "    </tr>\n",
              "    <tr>\n",
              "      <th>1167687</th>\n",
              "      <td>9/6/2019 23:23</td>\n",
              "      <td>30153</td>\n",
              "      <td>Overwatch League 2019 Post-Season</td>\n",
              "      <td>HYBRID</td>\n",
              "      <td>Numbani</td>\n",
              "      <td>Gesture</td>\n",
              "      <td>London Spitfire</td>\n",
              "      <td>Time Alive</td>\n",
              "      <td>Wrecking Ball</td>\n",
              "      <td>28.629001</td>\n",
              "      <td>NaN</td>\n",
              "      <td>tanker</td>\n",
              "    </tr>\n",
              "    <tr>\n",
              "      <th>1167688</th>\n",
              "      <td>9/6/2019 23:23</td>\n",
              "      <td>30153</td>\n",
              "      <td>Overwatch League 2019 Post-Season</td>\n",
              "      <td>HYBRID</td>\n",
              "      <td>Numbani</td>\n",
              "      <td>Gesture</td>\n",
              "      <td>London Spitfire</td>\n",
              "      <td>Time Building Ultimate</td>\n",
              "      <td>Wrecking Ball</td>\n",
              "      <td>28.630001</td>\n",
              "      <td>NaN</td>\n",
              "      <td>tanker</td>\n",
              "    </tr>\n",
              "  </tbody>\n",
              "</table>\n",
              "</div>"
            ],
            "text/plain": [
              "             start_time  match_id  ... tournament_title position\n",
              "1167684  9/6/2019 23:23     30153  ...              NaN   tanker\n",
              "1167685  9/6/2019 23:23     30153  ...              NaN   tanker\n",
              "1167686  9/6/2019 23:23     30153  ...              NaN   tanker\n",
              "1167687  9/6/2019 23:23     30153  ...              NaN   tanker\n",
              "1167688  9/6/2019 23:23     30153  ...              NaN   tanker\n",
              "\n",
              "[5 rows x 12 columns]"
            ]
          },
          "metadata": {
            "tags": []
          },
          "execution_count": 13
        }
      ]
    },
    {
      "cell_type": "code",
      "metadata": {
        "id": "0NyhmljW16o0"
      },
      "source": [
        "#df.to_csv('data/phs_p.csv',index=False)"
      ],
      "execution_count": null,
      "outputs": []
    },
    {
      "cell_type": "markdown",
      "metadata": {
        "id": "0YfsAFle7ccg"
      },
      "source": [
        "## skill position"
      ]
    },
    {
      "cell_type": "code",
      "metadata": {
        "id": "FebHDZID2D-F"
      },
      "source": [
        "tanker_skill = set(df[df['position']=='tanker']['stat_name'])\n",
        "dps_skill = set(df[df['position']=='dps']['stat_name'])\n",
        "supporter_skill = set(df[df['position']=='supporter']['stat_name'])"
      ],
      "execution_count": 15,
      "outputs": []
    },
    {
      "cell_type": "markdown",
      "metadata": {
        "id": "jYgN5vq97hIq"
      },
      "source": [
        " - 각 포지션별 스탯 개수"
      ]
    },
    {
      "cell_type": "code",
      "metadata": {
        "colab": {
          "base_uri": "https://localhost:8080/"
        },
        "id": "JWU2NSSn2EDp",
        "outputId": "623960c4-a2ee-4ad3-c266-ef876a0c9a2c"
      },
      "source": [
        "len(tanker_skill)"
      ],
      "execution_count": 16,
      "outputs": [
        {
          "output_type": "execute_result",
          "data": {
            "text/plain": [
              "142"
            ]
          },
          "metadata": {
            "tags": []
          },
          "execution_count": 16
        }
      ]
    },
    {
      "cell_type": "code",
      "metadata": {
        "colab": {
          "base_uri": "https://localhost:8080/"
        },
        "id": "5EC61JzG7tSz",
        "outputId": "4961823a-6c82-4c7a-cbbd-7796768ec826"
      },
      "source": [
        "len(dps_skill)"
      ],
      "execution_count": 17,
      "outputs": [
        {
          "output_type": "execute_result",
          "data": {
            "text/plain": [
              "179"
            ]
          },
          "metadata": {
            "tags": []
          },
          "execution_count": 17
        }
      ]
    },
    {
      "cell_type": "code",
      "metadata": {
        "colab": {
          "base_uri": "https://localhost:8080/"
        },
        "id": "YnGBzJB_7tVt",
        "outputId": "1269469b-d211-43a7-8501-8397e5ba378c"
      },
      "source": [
        "len(supporter_skill)"
      ],
      "execution_count": 18,
      "outputs": [
        {
          "output_type": "execute_result",
          "data": {
            "text/plain": [
              "131"
            ]
          },
          "metadata": {
            "tags": []
          },
          "execution_count": 18
        }
      ]
    },
    {
      "cell_type": "markdown",
      "metadata": {
        "id": "o50QBcoL7vtO"
      },
      "source": [
        " - 교집합 스탯 개수 확인"
      ]
    },
    {
      "cell_type": "code",
      "metadata": {
        "colab": {
          "base_uri": "https://localhost:8080/"
        },
        "id": "rP86917o7tZP",
        "outputId": "2ded95ef-80b2-4ab6-da72-d2a739c61915"
      },
      "source": [
        "# tanker, dps 교집합\n",
        "len(tanker_skill.intersection(dps_skill))"
      ],
      "execution_count": 19,
      "outputs": [
        {
          "output_type": "execute_result",
          "data": {
            "text/plain": [
              "52"
            ]
          },
          "metadata": {
            "tags": []
          },
          "execution_count": 19
        }
      ]
    },
    {
      "cell_type": "code",
      "metadata": {
        "colab": {
          "base_uri": "https://localhost:8080/"
        },
        "id": "kinVoAL07teX",
        "outputId": "56392d49-93cc-48b6-e443-629b2e90844d"
      },
      "source": [
        "# tanker, supporter 교집합\n",
        "len(tanker_skill.intersection(supporter_skill))"
      ],
      "execution_count": 20,
      "outputs": [
        {
          "output_type": "execute_result",
          "data": {
            "text/plain": [
              "50"
            ]
          },
          "metadata": {
            "tags": []
          },
          "execution_count": 20
        }
      ]
    },
    {
      "cell_type": "code",
      "metadata": {
        "colab": {
          "base_uri": "https://localhost:8080/"
        },
        "id": "s8H1WNqt71m2",
        "outputId": "aed8345d-340d-473b-adc2-2801277bc062"
      },
      "source": [
        "# dps, supporter 교집합\n",
        "len(dps_skill.intersection(supporter_skill))"
      ],
      "execution_count": 21,
      "outputs": [
        {
          "output_type": "execute_result",
          "data": {
            "text/plain": [
              "54"
            ]
          },
          "metadata": {
            "tags": []
          },
          "execution_count": 21
        }
      ]
    },
    {
      "cell_type": "code",
      "metadata": {
        "colab": {
          "base_uri": "https://localhost:8080/"
        },
        "id": "TcLl29hW71pj",
        "outputId": "cd8d8dc9-1d7a-4c95-d4a6-c09ec6bef926"
      },
      "source": [
        "# 전체 교집합\n",
        "len(tanker_skill & dps_skill & supporter_skill)"
      ],
      "execution_count": 22,
      "outputs": [
        {
          "output_type": "execute_result",
          "data": {
            "text/plain": [
              "49"
            ]
          },
          "metadata": {
            "tags": []
          },
          "execution_count": 22
        }
      ]
    },
    {
      "cell_type": "code",
      "metadata": {
        "colab": {
          "base_uri": "https://localhost:8080/"
        },
        "id": "JyennBtj71sd",
        "outputId": "360fa975-7c17-4993-d455-4713c14d717c"
      },
      "source": [
        "print(tanker_skill & dps_skill & supporter_skill)"
      ],
      "execution_count": 23,
      "outputs": [
        {
          "output_type": "stream",
          "text": [
            "{'Self Healing Percent of Damage Taken', 'Critical Hit Accuracy', 'Environmental Deaths', 'Ultimates Used', 'Solo Kills', 'Critical Hit Kills', 'Healing Received', 'Ultimates Earned - Fractional', 'Assists', 'Damage - Weapon Secondary', 'Melee Final Blows', 'Quick Melee Hits', 'Quick Melee Ticks', 'Teleporter Pads Destroyed', 'Time Elapsed per Ultimate Earned', 'Environmental Kills', 'Players Knocked Back', 'Time Hacked', 'Time Building Ultimate', 'Time Played', 'Time Holding Ultimate', 'Objective Kills', 'Turrets Destroyed', 'Offensive Assists', 'Objective Time', 'Shots Fired', 'Time Alive', 'Self Healing', 'Hero Damage Done', 'Weapon Accuracy', 'Secondary Fire Accuracy', 'Deaths', 'Shots Missed', 'Quick Melee Accuracy', 'Eliminations', 'Critical Hits', 'Damage - Weapon', 'Multikills', 'Barrier Damage Done', 'Average Time Alive', 'Damage Blocked', 'Damage - Quick Melee', 'Damage Taken', 'Final Blows', 'All Damage Done', 'Damage - Weapon Primary', 'Eliminations per Life', 'Defensive Assists', 'Shots Hit'}\n"
          ],
          "name": "stdout"
        }
      ]
    },
    {
      "cell_type": "code",
      "metadata": {
        "colab": {
          "base_uri": "https://localhost:8080/"
        },
        "id": "UXK-QlO271uu",
        "outputId": "13aaf706-4048-4fc6-92ca-a7add4ad9bd1"
      },
      "source": [
        "# 전체 합집합\n",
        "len(tanker_skill | dps_skill | supporter_skill)"
      ],
      "execution_count": 24,
      "outputs": [
        {
          "output_type": "execute_result",
          "data": {
            "text/plain": [
              "345"
            ]
          },
          "metadata": {
            "tags": []
          },
          "execution_count": 24
        }
      ]
    },
    {
      "cell_type": "markdown",
      "metadata": {
        "id": "qczYer_K9Cli"
      },
      "source": [
        "# 차집합"
      ]
    },
    {
      "cell_type": "code",
      "metadata": {
        "id": "rxDCzeDe71xd"
      },
      "source": [
        "common_stat = tanker_skill & dps_skill & supporter_skill"
      ],
      "execution_count": 25,
      "outputs": []
    },
    {
      "cell_type": "markdown",
      "metadata": {
        "id": "4j9p3VNd9I5i"
      },
      "source": [
        " - tanker"
      ]
    },
    {
      "cell_type": "code",
      "metadata": {
        "colab": {
          "base_uri": "https://localhost:8080/"
        },
        "id": "MvL8hEUJ710i",
        "outputId": "c4cf84c5-a030-42ee-b67b-315763e26dfc"
      },
      "source": [
        "print(tanker_skill - common_stat)"
      ],
      "execution_count": 27,
      "outputs": [
        {
          "output_type": "stream",
          "text": [
            "{'Primal Rage Melee Accuracy', 'Primal Rage Kills', 'Damage - Primal Rage Leap', 'Roll Uptime', 'Damage - Chain Hook', 'Primal Rage Melee Hits', 'Self-Destruct Kills', 'Gravitic Flux Kills', 'Primal Rage Melee Efficiency', 'Energy Maximum', 'Damage - Earthshatter', 'Mechs Called', 'Grappling Claw Impacts', 'Tesla Cannon Hits', 'Adaptive Shield Uses', 'Damage - Hyperspheres', 'Damage - Primal Rage Melee', 'Damage - Charge', 'Weapon Kills', 'Primal Rage Efficiency', 'Roll Uptime Percentage', 'Damage - Fire Strike', 'Damage - Self Destruct', 'Tesla Cannon Ticks', 'Accretion Kills', 'High Energy Kills', 'Hyperspheres Direct Hits', 'Projected Barriers Applied', 'Jump Pack Kills', 'Tesla Cannon Efficiency', 'Graviton Surge Kills', 'Ultimates Negated', 'Hook Accuracy', 'Graviton Surge Efficiency', 'Roll Uses', 'Self Destruct Efficiency', 'Melee Kills', 'Tesla Cannon Hits - Multiple', 'Earthshatter Kills', 'Minefield Kills', 'Damage - Graviton Surge', 'Primal Rage Melee Hits - Multiple', 'Primary Fire Ticks', 'Whole Hog Efficiency', 'Damage - Accretion', 'Supercharger Assists', 'Damage Taken - Adaptive Shield', 'Damage - Boosters', 'Air Uptime', 'Damage Absorbed', 'Damage - Micro Missiles', 'Accretion Stuns', 'Gravitic Flux Damage Done', 'Whole Hog Kills', 'Rocket Hammer Melee Average Targets', 'Enemies Hooked', 'Damage - Minefield', 'Rocket Hammer Melee Accuracy', 'Earthshatter Stuns', 'Primary Fire Hits', 'Piledriver Kills', 'Rocket Hammer Melee Hits', 'Tesla Cannon Accuracy', 'Rocket Hammer Melee Ticks', 'Supercharger Efficiency', 'Mech Deaths', 'Self-Destructs', 'Primal Rage Melee Ticks', 'Grappling Claw Kills', 'Fire Strike Kills', 'Damage Taken - Tank', 'Damage - Whole Hog', 'Damage - Primal Rage Total', 'Damage - Jump Pack', 'Average Energy', 'Earthshatter Efficiency', 'Damage - Call Mech', 'Piledriver Uses', 'Rocket Hammer Melee Hits - Multiple', 'Projected Barrier Damage Blocked', 'Damage Amplified', 'Grappling Claw Uses', 'Players Halted', 'Charge Kills', 'Shielding - Adaptive Shield', 'Damage - Piledriver', 'Air Uptime Percentage', 'Lifetime Energy Accumulation', 'Damage Taken - Ball', 'Primary Fire Accuracy', 'Hooks Attempted', 'Damage - Grappling Claw', 'Damage - Pistol'}\n"
          ],
          "name": "stdout"
        }
      ]
    },
    {
      "cell_type": "code",
      "metadata": {
        "colab": {
          "base_uri": "https://localhost:8080/"
        },
        "id": "ISYQ_jT-713t",
        "outputId": "07de6c12-c9a2-4021-922f-35dd2dbe5f8a"
      },
      "source": [
        "len(tanker_skill - common_stat)"
      ],
      "execution_count": 28,
      "outputs": [
        {
          "output_type": "execute_result",
          "data": {
            "text/plain": [
              "93"
            ]
          },
          "metadata": {
            "tags": []
          },
          "execution_count": 28
        }
      ]
    },
    {
      "cell_type": "markdown",
      "metadata": {
        "id": "DdrDoqRo9L7s"
      },
      "source": [
        " - dps"
      ]
    },
    {
      "cell_type": "code",
      "metadata": {
        "colab": {
          "base_uri": "https://localhost:8080/"
        },
        "id": "Ye1W528H81Jx",
        "outputId": "37f74e81-80bc-4a98-b3df-0de23248d899"
      },
      "source": [
        "print(dps_skill - common_stat)"
      ],
      "execution_count": 29,
      "outputs": [
        {
          "output_type": "stream",
          "text": [
            "{'EMP Efficiency', 'Meteor Strike Kills', 'Average Players per Teleporter', 'Enemies Frozen', 'Total Mayhem Kills', 'Secondary Direct Hits', 'Damage - Blizzard', 'Meteor Strike Efficiency', 'RIP-Tire Kills', 'Fan the Hammer Kills', 'Damage - Deadeye', 'Damage - Concussion Mine', 'Tank Efficiency', 'Deflection Kills', 'Damage - Weapon Recon', 'Damage - Helix Rockets', 'Damage - Dynamite', 'Match Blinks Used', 'Damage - Tactical Visor', 'Tank Kills', 'Helix Rocket Kills', 'Damage - Weapon Scoped', 'Damage - Total Mayhem', 'Dragonstrike Kills', 'Freeze Spray Damage', 'Concussion Mine Kills', 'Photon Projector Kills', 'Scoped Critical Hits', 'Damage - Swift Strike', 'Health Recovered', 'Recon Assists', 'Scoped Hits', 'Frag Launcher Direct Hits', 'Damage - Death Blossom', 'Bob Gun Damage', 'Deadeye Kills', 'Venom Mine Kills', 'Damage - Meteor Strike', 'Infra-Sight Efficiency', 'Damage - Deflect', 'Damage - Dragonblade Total', 'Dragonblade Kills', 'Enemies Hacked', 'Coach Gun Kills', 'Ability Damage Done', 'Successful Freezes', 'Scatter Arrow Kills', 'Primary Fire Average Level', 'Scoped Critical Hit Accuracy', 'Damage - Sentry Turret', 'Tactical Visor Efficiency', 'Primary Fire Ticks', 'Scoped Critical Hit Kills', 'Biotic Fields Deployed', 'Damage - Rising Uppercut', 'Infra-sight Uptime', 'Scoped Shots', \"Enemies EMP'd\", 'Damage - Bob', 'Armor Uptime', 'Icicle Damage', 'Turret Damage', 'Biotic Field Healing Done', 'Damage - Scatter', 'Damage - Flashbang', 'Armor Packs Created', 'Barrage Efficiency', 'Damage - Weapon Sentry', 'Deadeye Efficiency', 'Death Blossom Kills', 'Damage - Barrage', 'Molten Core Kills', 'Damage - Turret Rockets', 'Rocket Direct Hits', 'Damage - Coach Gun', 'Tactical Visor Kills', 'Death Blossoms', 'Damage - Storm Arrows', 'Damage - Seismic Slam', 'Sentry Kills', 'Healing Done', 'Damage Reflected', 'Pulse Bombs Attached', 'Recon Kills', 'Damage - Sonic', 'Primary Fire Hits', 'Rocket Barrages', 'Damage - Bob Charge', 'Torbjörn Kills', 'Tactical Visors', 'Dynamite Kills', 'Damage - Venom Mine', 'Storm Arrow Kills', 'Dragonstrike Efficiency', 'Players Teleported', 'Total Time Frozen', 'Damage - Molten Core', 'Teleporters Placed', 'Pulse Bomb Kills', 'Enemies Trapped', 'Pulse Bomb Attach Rate', 'Molten Core Efficiency', 'Damage - Steel Trap', 'Primary Fire Hits Hits - Level', 'Dragonblades', 'Teleporter Uptime', 'RIP-Tire Efficiency', 'Direct Hit Accuracy', 'Barrage Kills', 'of Rockets Fired', 'Damage - EMP', 'Pulse Bomb Efficiency', 'Damage - Weapon Hammer', 'Damage - Pulse Bomb', 'Damage - Dragonstrike', 'Damage - Dragonblade', 'Scoped Accuracy', 'Recalls Used', 'Damage - Rocket Punch', 'Damage - RIP-Tire', 'Turret Kills', 'Death Blossom Efficiency', 'Sentry Turret Kills', 'Blizzard Efficiency', 'Damage - Swift Strike Dragonblade', 'Damage - Weapon Tank', 'Primary Fire Accuracy', 'Dragonblade Efficiency', 'Blizzard Kills', 'Shields Created'}\n"
          ],
          "name": "stdout"
        }
      ]
    },
    {
      "cell_type": "code",
      "metadata": {
        "colab": {
          "base_uri": "https://localhost:8080/"
        },
        "id": "tsRdppQX81Mf",
        "outputId": "d2fa4417-0e7c-4bc4-f0ea-6e6898572270"
      },
      "source": [
        "len(dps_skill - common_stat)"
      ],
      "execution_count": 30,
      "outputs": [
        {
          "output_type": "execute_result",
          "data": {
            "text/plain": [
              "130"
            ]
          },
          "metadata": {
            "tags": []
          },
          "execution_count": 30
        }
      ]
    },
    {
      "cell_type": "markdown",
      "metadata": {
        "id": "9M2IeE6b9YL8"
      },
      "source": [
        " - suppoter"
      ]
    },
    {
      "cell_type": "code",
      "metadata": {
        "colab": {
          "base_uri": "https://localhost:8080/"
        },
        "id": "FjNLZNkx81PU",
        "outputId": "4ecb4fbc-d3d2-43d3-e59c-26308541bb68"
      },
      "source": [
        "print(supporter_skill - common_stat)"
      ],
      "execution_count": 31,
      "outputs": [
        {
          "output_type": "stream",
          "text": [
            "{'Healing - Secondary Fire', 'Sound Barrier Casts', 'Healing - Weapon', 'Rally Armor Efficiency', 'Coalescence Healing', 'Armor - Rally', 'Nano Boost Assists', 'Unscoped Accuracy', 'Enemies Slept', 'Inspire Uptime', 'Coalesence - Healing per Use', 'Armor Provided', 'Healing - Weapon Valkyrie', 'Healing - Healing Boost', 'Biotic Grenade Kills', 'Damage - Weapon Scoped', 'Biotic Launcher Healing Shots', 'Unscoped Shots', 'Amplification Matrix Assists', 'Sleep Dart Success Rate', 'Blaster Kills', 'Healing Amplified', 'Scoped Hits', 'Sleep Dart Shots', 'Transcendence Efficiency', 'Healing - Weapon Scoped', 'Secondary Fire Hits', 'Unscoped Hits', 'Damage - Shield Bash', 'Healing - Healing Boost Amped', 'Harmony Orb Time', 'Healing - Biotic Launcher', 'Players Resurrected', 'Discord Orb Time', 'Amplification Matrix Efficiency', 'Scoped Shots', 'Sound Barriers Provided', 'Biotic Orb Healing Efficiency', 'Coalescence Kills', 'Nano Boost Efficiency', 'Biotic Orb Maximum Damage', 'Damage Prevented', 'Soundwave Kills', 'Damage - Weapon Charged', 'Inspire Uptime Percentage', 'Biotic Orb Maximum Healing', 'Sleep Dart Hits', 'Healing - Inspire', 'Damage - Biotic Orb', 'Sound Barrier Efficiency', 'Damage - Biotic Grenade', 'Healing - Harmony Orb', 'Healing Accuracy', 'Healing - Coalescence', 'Healing Done', 'Immortality Field Deaths Prevented', 'Healing - Immortality Field', 'Healing - Biotic Orb', 'Healing - Repair Pack', 'Amped Speed Activations', 'Damage - Weapon Pistol', 'Armor - Repair Pack', 'Coalesence - Damage per Use', 'Damage - Coalescence', 'Nano Boosts Applied', 'Secondary Fire Ticks', 'Damage - Discord Orb', 'Healing - Transcendence', 'Amplification Matrix Casts', 'Damage Amplified', 'Speed Song Time Elapsed', 'Amped Heal Activations', 'Biotic Orb Damage Efficiency', 'Players Saved', 'Transcendence Percent of Healing', 'Transcendence Healing', 'Scoped Accuracy', 'Biotic Launcher Healing Explosions', 'Healing - Biotic Grenade', 'Valkyrie Healing Efficiency', 'Heal Song Time Elapsed', 'Healing - Regenerative Burst'}\n"
          ],
          "name": "stdout"
        }
      ]
    },
    {
      "cell_type": "code",
      "metadata": {
        "colab": {
          "base_uri": "https://localhost:8080/"
        },
        "id": "9sTDBV4s81Se",
        "outputId": "79a411f5-7ae5-4f34-b3dc-fbb93db7ed64"
      },
      "source": [
        "len(supporter_skill - common_stat)"
      ],
      "execution_count": 32,
      "outputs": [
        {
          "output_type": "execute_result",
          "data": {
            "text/plain": [
              "82"
            ]
          },
          "metadata": {
            "tags": []
          },
          "execution_count": 32
        }
      ]
    },
    {
      "cell_type": "markdown",
      "metadata": {
        "id": "cigVP1wAGBYL"
      },
      "source": [
        "# 승패라벨링 하기"
      ]
    },
    {
      "cell_type": "code",
      "metadata": {
        "id": "slIEbA7sGG05"
      },
      "source": [
        ""
      ],
      "execution_count": null,
      "outputs": []
    },
    {
      "cell_type": "markdown",
      "metadata": {
        "id": "p-_lMezTAm9y"
      },
      "source": [
        "# EDA"
      ]
    },
    {
      "cell_type": "markdown",
      "metadata": {
        "id": "6zBH_wHuEis4"
      },
      "source": [
        " - 딜러중 All damage Done 막대그래프 정리"
      ]
    },
    {
      "cell_type": "code",
      "metadata": {
        "id": "XK0h7ZNjAk5-"
      },
      "source": [
        ""
      ],
      "execution_count": null,
      "outputs": []
    },
    {
      "cell_type": "code",
      "metadata": {
        "id": "0U7YS1idAk9I"
      },
      "source": [
        ""
      ],
      "execution_count": null,
      "outputs": []
    },
    {
      "cell_type": "markdown",
      "metadata": {
        "id": "ZgvzA9XoE42v"
      },
      "source": [
        " - 승패예측"
      ]
    },
    {
      "cell_type": "code",
      "metadata": {
        "id": "Z3A_4yqCAlAU"
      },
      "source": [
        ""
      ],
      "execution_count": null,
      "outputs": []
    }
  ]
}